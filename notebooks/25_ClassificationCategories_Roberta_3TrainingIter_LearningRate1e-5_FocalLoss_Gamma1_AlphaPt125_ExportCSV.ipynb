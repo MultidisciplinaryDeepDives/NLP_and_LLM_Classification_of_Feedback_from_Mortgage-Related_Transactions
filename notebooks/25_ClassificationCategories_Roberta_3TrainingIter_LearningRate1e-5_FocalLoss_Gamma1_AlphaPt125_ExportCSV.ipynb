{
 "cells": [
  {
   "cell_type": "code",
   "execution_count": 1,
   "id": "bb8b328f-435e-4d5d-a02f-23ecdd48c147",
   "metadata": {},
   "outputs": [],
   "source": [
    "import pandas as pd\n",
    "import numpy as np\n",
    "\n",
    "from sklearn.naive_bayes import MultinomialNB\n",
    "from sklearn.linear_model import LogisticRegression\n",
    "\n",
    "from sklearn.model_selection import train_test_split\n",
    "from sklearn.pipeline import Pipeline\n",
    "from sklearn.feature_extraction.text import TfidfVectorizer\n",
    "from sklearn.metrics import confusion_matrix, classification_report\n",
    "\n",
    "from sklearn.metrics.pairwise import cosine_similarity\n",
    "from collections import Counter \n",
    "from scipy.spatial.distance import pdist\n"
   ]
  },
  {
   "cell_type": "code",
   "execution_count": 2,
   "id": "0a64c44f",
   "metadata": {},
   "outputs": [],
   "source": [
    "import accuracy"
   ]
  },
  {
   "cell_type": "code",
   "execution_count": 3,
   "id": "5252b5e1",
   "metadata": {},
   "outputs": [],
   "source": [
    "from sklearn import metrics\n",
    "\n",
    "def compute_metrics(p):\n",
    "    preds = np.argmax(p.predictions, axis=1)\n",
    "    return metrics.accuracy_score(y_true=p.label_ids, y_pred=preds)\n"
   ]
  },
  {
   "cell_type": "code",
   "execution_count": 4,
   "id": "063c5391",
   "metadata": {},
   "outputs": [],
   "source": [
    "import torch\n",
    "import torch.nn.functional as F\n",
    "import torch.nn as nn\n",
    "from torch.autograd import Variable\n",
    "\n",
    "from datasets import Dataset\n",
    "from accelerate import Accelerator\n",
    "import tqdm as notebook_tqdm\n"
   ]
  },
  {
   "cell_type": "code",
   "execution_count": null,
   "metadata": {},
   "outputs": [],
   "source": []
  },
  {
   "cell_type": "code",
   "execution_count": null,
   "id": "607cc958",
   "metadata": {},
   "outputs": [],
   "source": [
    "\n",
    "def focal_loss(logits, labels, gamma=1, alpha=0.125, num_items_in_batch=None):\n",
    "    # Calculate standard cross-entropy loss first.\n",
    "    ce_loss = F.cross_entropy(logits, labels, reduction='none')\n",
    "    \n",
    "    # Get softmax probabilities.\n",
    "    pt = torch.exp(-ce_loss)\n",
    "    \n",
    "    # Compute focal loss.\n",
    "    focal_loss = alpha * (1 - pt) ** gamma * ce_loss\n",
    "\n",
    "    num_items_in_batch=None\n",
    "\n",
    "    return focal_loss.mean()"
   ]
  },
  {
   "cell_type": "code",
   "execution_count": 6,
   "id": "6111403e",
   "metadata": {},
   "outputs": [],
   "source": [
    "from bs4 import BeautifulSoup\n",
    "import re\n",
    "from sklearn import preprocessing"
   ]
  },
  {
   "cell_type": "code",
   "execution_count": 7,
   "id": "29f3d6ad",
   "metadata": {},
   "outputs": [],
   "source": [
    "#  from gensim.models import word2vec"
   ]
  },
  {
   "cell_type": "code",
   "execution_count": 8,
   "id": "ad560a1b",
   "metadata": {},
   "outputs": [],
   "source": [
    "from transformers import Pipeline, RobertaTokenizer, RobertaModel, AutoTokenizer, DistilBertModel, AutoModelForSequenceClassification, Trainer, TrainingArguments, DataCollatorWithPadding, DistilBertConfig, DistilBertTokenizer, DistilBertTokenizerFast, DistilBertPreTrainedModel, DistilBertForTokenClassification, DistilBertForSequenceClassification\n",
    "import evaluate"
   ]
  },
  {
   "cell_type": "code",
   "execution_count": 9,
   "id": "734c3115",
   "metadata": {},
   "outputs": [],
   "source": [
    "from sklearn import metrics"
   ]
  },
  {
   "cell_type": "code",
   "execution_count": 10,
   "id": "27fc83d3",
   "metadata": {},
   "outputs": [],
   "source": [
    "class CustomLossTrainer(Trainer):\n",
    "    def __init__(self, *args, loss_fn=None, num_items_in_batch=None, **kwargs):\n",
    "        super().__init__(*args, **kwargs)\n",
    "        # Store your custom loss function.\n",
    "        # This should take (logits, labels) as arguments.\n",
    "        self.loss_fn = loss_fn\n",
    "\n",
    "    def compute_loss(self, model, inputs, return_outputs=False, num_items_in_batch=None):\n",
    "        # Assume your inputs include \"labels\" and your model returns logits.\n",
    "        labels = inputs.get(\"labels\")\n",
    "        outputs = model(**inputs)\n",
    "        logits = outputs.get(\"logits\")\n",
    "        \n",
    "        # Compute the custom loss using your loss function.\n",
    "        loss = self.loss_fn(logits, labels)\n",
    "        \n",
    "        num_items_in_batch=None\n",
    "        \n",
    "        return (loss, outputs) if return_outputs else loss"
   ]
  },
  {
   "cell_type": "code",
   "execution_count": null,
   "metadata": {},
   "outputs": [],
   "source": []
  },
  {
   "cell_type": "code",
   "execution_count": 11,
   "id": "0261a59c",
   "metadata": {},
   "outputs": [],
   "source": [
    "metric = evaluate.load(\"accuracy\")\n",
    "\n",
    "def compute_metrics(p):\n",
    "    preds = np.argmax(p.predictions, axis=1)\n",
    "    return metric.compute(predictions=preds, references=p.label_ids)"
   ]
  },
  {
   "cell_type": "code",
   "execution_count": 12,
   "id": "83595865-3188-447d-b172-76398904578d",
   "metadata": {},
   "outputs": [],
   "source": [
    "complaints = pd.read_csv(\"../data/complaints_full.csv\")"
   ]
  },
  {
   "cell_type": "code",
   "execution_count": 13,
   "id": "18feb348",
   "metadata": {},
   "outputs": [
    {
     "data": {
      "text/html": [
       "<div>\n",
       "<style scoped>\n",
       "    .dataframe tbody tr th:only-of-type {\n",
       "        vertical-align: middle;\n",
       "    }\n",
       "\n",
       "    .dataframe tbody tr th {\n",
       "        vertical-align: top;\n",
       "    }\n",
       "\n",
       "    .dataframe thead th {\n",
       "        text-align: right;\n",
       "    }\n",
       "</style>\n",
       "<table border=\"1\" class=\"dataframe\">\n",
       "  <thead>\n",
       "    <tr style=\"text-align: right;\">\n",
       "      <th></th>\n",
       "      <th>Consumer complaint narrative</th>\n",
       "      <th>Issue</th>\n",
       "    </tr>\n",
       "  </thead>\n",
       "  <tbody>\n",
       "    <tr>\n",
       "      <th>0</th>\n",
       "      <td>In accordance with the fair credit reporting a...</td>\n",
       "      <td>Improper use of your report</td>\n",
       "    </tr>\n",
       "    <tr>\n",
       "      <th>1</th>\n",
       "      <td>Credit inquiries on my account thats not mine</td>\n",
       "      <td>Improper use of your report</td>\n",
       "    </tr>\n",
       "    <tr>\n",
       "      <th>2</th>\n",
       "      <td>My name is XXXX XXXX this complaint is not mad...</td>\n",
       "      <td>Incorrect information on your report</td>\n",
       "    </tr>\n",
       "    <tr>\n",
       "      <th>3</th>\n",
       "      <td>I searched on XXXX for XXXXXXXX XXXX  and was ...</td>\n",
       "      <td>Fraud or scam</td>\n",
       "    </tr>\n",
       "    <tr>\n",
       "      <th>4</th>\n",
       "      <td>Now I originally signed up for Albert over 3 y...</td>\n",
       "      <td>Managing an account</td>\n",
       "    </tr>\n",
       "    <tr>\n",
       "      <th>...</th>\n",
       "      <td>...</td>\n",
       "      <td>...</td>\n",
       "    </tr>\n",
       "    <tr>\n",
       "      <th>911567</th>\n",
       "      <td>REINSTATEMENT PROBLEMS- DENIAL OF RIGHT TO CUR...</td>\n",
       "      <td>Trouble during payment process</td>\n",
       "    </tr>\n",
       "    <tr>\n",
       "      <th>911568</th>\n",
       "      <td>This is a very brief summary of a problem that...</td>\n",
       "      <td>Applying for a mortgage or refinancing an exis...</td>\n",
       "    </tr>\n",
       "    <tr>\n",
       "      <th>911569</th>\n",
       "      <td>I have tried to contact cash app about a fraud...</td>\n",
       "      <td>Fraud or scam</td>\n",
       "    </tr>\n",
       "    <tr>\n",
       "      <th>911570</th>\n",
       "      <td>On XX/XX/XXXX Tuesday, after I switched my cho...</td>\n",
       "      <td>Trouble during payment process</td>\n",
       "    </tr>\n",
       "    <tr>\n",
       "      <th>911571</th>\n",
       "      <td>After falling behind on our mortgage in 2011, ...</td>\n",
       "      <td>Loan modification,collection,foreclosure</td>\n",
       "    </tr>\n",
       "  </tbody>\n",
       "</table>\n",
       "<p>911572 rows × 2 columns</p>\n",
       "</div>"
      ],
      "text/plain": [
       "                             Consumer complaint narrative  \\\n",
       "0       In accordance with the fair credit reporting a...   \n",
       "1           Credit inquiries on my account thats not mine   \n",
       "2       My name is XXXX XXXX this complaint is not mad...   \n",
       "3       I searched on XXXX for XXXXXXXX XXXX  and was ...   \n",
       "4       Now I originally signed up for Albert over 3 y...   \n",
       "...                                                   ...   \n",
       "911567  REINSTATEMENT PROBLEMS- DENIAL OF RIGHT TO CUR...   \n",
       "911568  This is a very brief summary of a problem that...   \n",
       "911569  I have tried to contact cash app about a fraud...   \n",
       "911570  On XX/XX/XXXX Tuesday, after I switched my cho...   \n",
       "911571  After falling behind on our mortgage in 2011, ...   \n",
       "\n",
       "                                                    Issue  \n",
       "0                             Improper use of your report  \n",
       "1                             Improper use of your report  \n",
       "2                    Incorrect information on your report  \n",
       "3                                           Fraud or scam  \n",
       "4                                     Managing an account  \n",
       "...                                                   ...  \n",
       "911567                     Trouble during payment process  \n",
       "911568  Applying for a mortgage or refinancing an exis...  \n",
       "911569                                      Fraud or scam  \n",
       "911570                     Trouble during payment process  \n",
       "911571           Loan modification,collection,foreclosure  \n",
       "\n",
       "[911572 rows x 2 columns]"
      ]
     },
     "execution_count": 13,
     "metadata": {},
     "output_type": "execute_result"
    }
   ],
   "source": [
    "complaints  "
   ]
  },
  {
   "cell_type": "code",
   "execution_count": 14,
   "id": "ef11bc09",
   "metadata": {},
   "outputs": [],
   "source": [
    "# complaints.to_csv('../data/complaints_1000.csv', index=False)"
   ]
  },
  {
   "cell_type": "code",
   "execution_count": 15,
   "id": "0bbe150a",
   "metadata": {},
   "outputs": [],
   "source": [
    "class TextCleaner():\n",
    "    def __init__(self):\n",
    "        pass\n",
    "    \n",
    "    def clean_text(self, text):\n",
    "        text = text.lower()\n",
    "        text = re.sub(r'<.*?>', '', text)\n",
    "        text = re.sub(r'http\\S+', '', text)\n",
    "        text = re.sub(r\"[^a-zA-Z0-9\\s]\", \"\", text)\n",
    "        text = re.sub(r\"\\s+\", \" \", text).strip()\n",
    "        return text\n",
    "\n",
    "cleaner = TextCleaner()\n",
    "complaints['cleaned_text'] = complaints['Consumer complaint narrative'].apply(cleaner.clean_text)"
   ]
  },
  {
   "cell_type": "code",
   "execution_count": 16,
   "id": "8806fc48",
   "metadata": {},
   "outputs": [],
   "source": [
    "le = preprocessing.LabelEncoder()\n",
    "complaints['labels'] = le.fit_transform(complaints['Issue'].tolist())"
   ]
  },
  {
   "cell_type": "code",
   "execution_count": 17,
   "id": "408e390a",
   "metadata": {},
   "outputs": [],
   "source": [
    "complaints = complaints.drop(['Consumer complaint narrative', 'Issue'], axis=1)"
   ]
  },
  {
   "cell_type": "code",
   "execution_count": 18,
   "id": "a88200da",
   "metadata": {},
   "outputs": [],
   "source": [
    "train_df, test_df = train_test_split(complaints, test_size=0.2, stratify=complaints['labels'], random_state=321, shuffle=True)"
   ]
  },
  {
   "cell_type": "code",
   "execution_count": 19,
   "id": "69c96e4a",
   "metadata": {},
   "outputs": [
    {
     "data": {
      "application/vnd.jupyter.widget-view+json": {
       "model_id": "c373d146889f4632b8d9a0cd165cab69",
       "version_major": 2,
       "version_minor": 0
      },
      "text/plain": [
       "Map:   0%|          | 0/729257 [00:00<?, ? examples/s]"
      ]
     },
     "metadata": {},
     "output_type": "display_data"
    },
    {
     "data": {
      "application/vnd.jupyter.widget-view+json": {
       "model_id": "4405cd0771554d2ab16d66c1045b6a2f",
       "version_major": 2,
       "version_minor": 0
      },
      "text/plain": [
       "Map:   0%|          | 0/182315 [00:00<?, ? examples/s]"
      ]
     },
     "metadata": {},
     "output_type": "display_data"
    }
   ],
   "source": [
    "# Load tokenizer\n",
    "tokenizer = AutoTokenizer.from_pretrained(\"roberta-base\")\n",
    "\n",
    "# Convert datasets to tokenized format\n",
    "train_dataset = Dataset.from_pandas(train_df)\n",
    "test_dataset = Dataset.from_pandas(test_df)\n",
    "\n",
    "def tokenize_data(examples):\n",
    "    return tokenizer(examples[\"cleaned_text\"], truncation=True)\n",
    "\n",
    "tokenized_train = train_dataset.map(tokenize_data, batched=True)\n",
    "tokenized_test = test_dataset.map(tokenize_data, batched=True)"
   ]
  },
  {
   "cell_type": "code",
   "execution_count": 20,
   "id": "9e8f35fd",
   "metadata": {},
   "outputs": [],
   "source": [
    "def compute_metrics(eval_pred):\n",
    "    predictions, labels = eval_pred\n",
    "    predictions = np.argmax(predictions, axis=1)\n",
    "    return accuracy.compute(predictions=predictions, references=labels)"
   ]
  },
  {
   "cell_type": "code",
   "execution_count": 21,
   "id": "8e696948",
   "metadata": {},
   "outputs": [
    {
     "name": "stderr",
     "output_type": "stream",
     "text": [
      "Some weights of RobertaForSequenceClassification were not initialized from the model checkpoint at roberta-base and are newly initialized: ['classifier.dense.bias', 'classifier.dense.weight', 'classifier.out_proj.bias', 'classifier.out_proj.weight']\n",
      "You should probably TRAIN this model on a down-stream task to be able to use it for predictions and inference.\n",
      "/Users/bentonwang/Library/Python/3.13/lib/python/site-packages/torch/utils/data/dataloader.py:683: UserWarning: 'pin_memory' argument is set as true but not supported on MPS now, then device pinned memory won't be used.\n",
      "  warnings.warn(warn_msg)\n"
     ]
    },
    {
     "data": {
      "text/html": [
       "\n",
       "    <div>\n",
       "      \n",
       "      <progress value='273474' max='273474' style='width:300px; height:20px; vertical-align: middle;'></progress>\n",
       "      [273474/273474 21:08:26, Epoch 3/3]\n",
       "    </div>\n",
       "    <table border=\"1\" class=\"dataframe\">\n",
       "  <thead>\n",
       " <tr style=\"text-align: left;\">\n",
       "      <th>Epoch</th>\n",
       "      <th>Training Loss</th>\n",
       "      <th>Validation Loss</th>\n",
       "    </tr>\n",
       "  </thead>\n",
       "  <tbody>\n",
       "    <tr>\n",
       "      <td>1</td>\n",
       "      <td>0.084500</td>\n",
       "      <td>0.083673</td>\n",
       "    </tr>\n",
       "    <tr>\n",
       "      <td>2</td>\n",
       "      <td>0.074200</td>\n",
       "      <td>0.078840</td>\n",
       "    </tr>\n",
       "    <tr>\n",
       "      <td>3</td>\n",
       "      <td>0.068500</td>\n",
       "      <td>0.076803</td>\n",
       "    </tr>\n",
       "  </tbody>\n",
       "</table><p>"
      ],
      "text/plain": [
       "<IPython.core.display.HTML object>"
      ]
     },
     "metadata": {},
     "output_type": "display_data"
    },
    {
     "name": "stderr",
     "output_type": "stream",
     "text": [
      "/Users/bentonwang/Library/Python/3.13/lib/python/site-packages/torch/utils/data/dataloader.py:683: UserWarning: 'pin_memory' argument is set as true but not supported on MPS now, then device pinned memory won't be used.\n",
      "  warnings.warn(warn_msg)\n",
      "/Users/bentonwang/Library/Python/3.13/lib/python/site-packages/torch/utils/data/dataloader.py:683: UserWarning: 'pin_memory' argument is set as true but not supported on MPS now, then device pinned memory won't be used.\n",
      "  warnings.warn(warn_msg)\n"
     ]
    }
   ],
   "source": [
    "# Load pre-trained DistilBERT model (or another model) for sequence classification\n",
    "model = AutoModelForSequenceClassification.from_pretrained(\"roberta-base\", num_labels=len(le.classes_)) #, id2label=id2label, label2id=label2id)\n",
    "\n",
    "# Prepare data collator for padding sequences\n",
    "data_collator = DataCollatorWithPadding(tokenizer=tokenizer)\n",
    "\n",
    "# Define training arguments\n",
    "training_args = TrainingArguments(\n",
    "    output_dir=\"./results\",\n",
    "    warmup_steps=500,\n",
    "    learning_rate=1e-5,\n",
    "    per_device_train_batch_size=8,\n",
    "    per_device_eval_batch_size=8,\n",
    "    num_train_epochs=3,\n",
    "    weight_decay=0.01,\n",
    "    eval_strategy=\"epoch\",\n",
    "    save_strategy=\"epoch\",\n",
    "    load_best_model_at_end=True\n",
    "    # push_to_hub=True\n",
    ")\n",
    "\n",
    "# Define Trainer object for training the model\n",
    "trainer = CustomLossTrainer(\n",
    "    model=model,\n",
    "    args=training_args,\n",
    "    train_dataset=tokenized_train,\n",
    "    eval_dataset=tokenized_test,\n",
    "    processing_class=tokenizer,\n",
    "    data_collator=data_collator,    \n",
    "    loss_fn=focal_loss   # pass your custom loss function here, e.g. focal_loss\n",
    ")\n",
    "\n",
    "# Train the model\n",
    "trainer.train()\n",
    "\n",
    "# Save the trained model\n",
    "trainer.save_model('model')"
   ]
  },
  {
   "cell_type": "code",
   "execution_count": 22,
   "id": "76c45454",
   "metadata": {},
   "outputs": [
    {
     "name": "stderr",
     "output_type": "stream",
     "text": [
      "/Users/bentonwang/Library/Python/3.13/lib/python/site-packages/torch/utils/data/dataloader.py:683: UserWarning: 'pin_memory' argument is set as true but not supported on MPS now, then device pinned memory won't be used.\n",
      "  warnings.warn(warn_msg)\n"
     ]
    },
    {
     "data": {
      "text/html": [],
      "text/plain": [
       "<IPython.core.display.HTML object>"
      ]
     },
     "metadata": {},
     "output_type": "display_data"
    },
    {
     "data": {
      "text/plain": [
       "PredictionOutput(predictions=array([[-1.8539884 ,  1.2869017 , -2.820937  , ..., -2.6207426 ,\n",
       "         2.0979576 ,  1.5272754 ],\n",
       "       [-2.9342282 ,  1.2239447 , -3.18478   , ..., -2.3848622 ,\n",
       "        -0.5082115 ,  0.9714488 ],\n",
       "       [-1.0187677 , -0.26679042, -2.6889002 , ..., -1.6065754 ,\n",
       "         3.2760453 ,  0.9937186 ],\n",
       "       ...,\n",
       "       [-1.3515413 ,  0.86862063, -3.1072886 , ..., -2.2121375 ,\n",
       "        -1.5847299 ,  0.4295195 ],\n",
       "       [-0.83141345, -0.74413687, -2.4304998 , ..., -1.18501   ,\n",
       "         4.3630624 , -1.1467575 ],\n",
       "       [-1.9060173 ,  0.18451488, -3.2678254 , ..., -1.7830613 ,\n",
       "         2.3865976 , -0.96159744]], shape=(182315, 25), dtype=float32), label_ids=array([18, 11, 18, ...,  9, 11, 11], shape=(182315,)), metrics={'test_loss': 0.07680337131023407, 'test_runtime': 1572.746, 'test_samples_per_second': 115.921, 'test_steps_per_second': 14.491})"
      ]
     },
     "execution_count": 22,
     "metadata": {},
     "output_type": "execute_result"
    }
   ],
   "source": [
    "trainer.predict(tokenized_test)"
   ]
  },
  {
   "cell_type": "code",
   "execution_count": 23,
   "id": "14d7a4fd",
   "metadata": {},
   "outputs": [
    {
     "data": {
      "text/html": [],
      "text/plain": [
       "<IPython.core.display.HTML object>"
      ]
     },
     "metadata": {},
     "output_type": "display_data"
    },
    {
     "data": {
      "text/plain": [
       "array([18, 18, 18, ...,  9, 11, 11], shape=(182315,))"
      ]
     },
     "execution_count": 23,
     "metadata": {},
     "output_type": "execute_result"
    }
   ],
   "source": [
    "np.argmax(trainer.predict(tokenized_test).predictions, axis=1)"
   ]
  },
  {
   "cell_type": "code",
   "execution_count": 24,
   "id": "eb5f8d38",
   "metadata": {},
   "outputs": [
    {
     "data": {
      "text/html": [],
      "text/plain": [
       "<IPython.core.display.HTML object>"
      ]
     },
     "metadata": {},
     "output_type": "display_data"
    },
    {
     "name": "stdout",
     "output_type": "stream",
     "text": [
      "                                                                                  precision    recall  f1-score   support\n",
      "\n",
      "                     Applying for a mortgage or refinancing an existing mortgage       0.82      0.69      0.75      2092\n",
      "                                               Attempts to collect debt not owed       0.59      0.64      0.62     14633\n",
      "                                                              Closing an account       0.72      0.73      0.73      1905\n",
      "                                                           Communication tactics       0.72      0.71      0.72      4249\n",
      "                                           Cont'd attempts collect debt not owed       0.58      0.53      0.55      3366\n",
      "                                            Dealing with your lender or servicer       0.85      0.88      0.86      3255\n",
      "                                              False statements or representation       0.51      0.32      0.39      4081\n",
      "                                                                Fees or interest       0.72      0.79      0.75      2023\n",
      "                                                                   Fraud or scam       0.79      0.73      0.76      2469\n",
      "                                                     Improper use of your report       0.82      0.85      0.83     20402\n",
      "                                          Incorrect information on credit report       0.67      0.59      0.63      4032\n",
      "                                            Incorrect information on your report       0.73      0.77      0.75     45861\n",
      "                                        Loan modification,collection,foreclosure       0.68      0.73      0.70      2155\n",
      "                                        Loan servicing, payments, escrow account       0.70      0.69      0.69      2943\n",
      "                                                             Managing an account       0.82      0.83      0.83      7388\n",
      "                                                      Managing the loan or lease       0.74      0.72      0.73      2476\n",
      "                                              Other features, terms, or problems       0.68      0.60      0.64      2274\n",
      "                                                    Problem when making payments       0.59      0.59      0.59      1996\n",
      "Problem with a credit reporting company's investigation into an existing problem       0.73      0.69      0.71     28786\n",
      "                                 Problem with a purchase shown on your statement       0.80      0.82      0.81      4611\n",
      "                                                      Struggling to pay mortgage       0.68      0.73      0.71      3475\n",
      "                             Took or threatened to take negative or legal action       0.54      0.42      0.47      3468\n",
      "                                                  Trouble during payment process       0.78      0.78      0.78      6730\n",
      "                                Unable to get your credit report or credit score       0.77      0.76      0.77      1742\n",
      "                                                 Written notification about debt       0.59      0.55      0.57      5903\n",
      "\n",
      "                                                                        accuracy                           0.72    182315\n",
      "                                                                       macro avg       0.70      0.69      0.69    182315\n",
      "                                                                    weighted avg       0.72      0.72      0.72    182315\n",
      "\n"
     ]
    }
   ],
   "source": [
    "print(classification_report(\n",
    "    y_true=tokenized_test['labels'],\n",
    "    y_pred=np.argmax(trainer.predict(tokenized_test).predictions, axis=1),\n",
    "    target_names=le.classes_\n",
    "))"
   ]
  },
  {
   "cell_type": "code",
   "execution_count": 25,
   "id": "8837b1ea",
   "metadata": {},
   "outputs": [
    {
     "data": {
      "text/plain": [
       "Dataset({\n",
       "    features: ['cleaned_text', 'labels', '__index_level_0__', 'input_ids', 'attention_mask'],\n",
       "    num_rows: 729257\n",
       "})"
      ]
     },
     "execution_count": 25,
     "metadata": {},
     "output_type": "execute_result"
    }
   ],
   "source": [
    "tokenized_train"
   ]
  },
  {
   "cell_type": "code",
   "execution_count": 26,
   "id": "ac048c1b",
   "metadata": {},
   "outputs": [
    {
     "data": {
      "text/html": [
       "<div>\n",
       "<style scoped>\n",
       "    .dataframe tbody tr th:only-of-type {\n",
       "        vertical-align: middle;\n",
       "    }\n",
       "\n",
       "    .dataframe tbody tr th {\n",
       "        vertical-align: top;\n",
       "    }\n",
       "\n",
       "    .dataframe thead th {\n",
       "        text-align: right;\n",
       "    }\n",
       "</style>\n",
       "<table border=\"1\" class=\"dataframe\">\n",
       "  <thead>\n",
       "    <tr style=\"text-align: right;\">\n",
       "      <th></th>\n",
       "      <th>Consumer complaint narrative</th>\n",
       "      <th>Issue</th>\n",
       "    </tr>\n",
       "  </thead>\n",
       "  <tbody>\n",
       "    <tr>\n",
       "      <th>684406</th>\n",
       "      <td>i am attaching a copy of the letter i mailed t...</td>\n",
       "      <td>18</td>\n",
       "    </tr>\n",
       "    <tr>\n",
       "      <th>652421</th>\n",
       "      <td>xxxx xxxx xxxx credit card company closed our ...</td>\n",
       "      <td>11</td>\n",
       "    </tr>\n",
       "    <tr>\n",
       "      <th>14724</th>\n",
       "      <td>i have no clue whats going on so i have no cho...</td>\n",
       "      <td>18</td>\n",
       "    </tr>\n",
       "    <tr>\n",
       "      <th>295539</th>\n",
       "      <td>over the last 21 months i have on time payment...</td>\n",
       "      <td>6</td>\n",
       "    </tr>\n",
       "    <tr>\n",
       "      <th>140132</th>\n",
       "      <td>transunion is not correcting my name nor incor...</td>\n",
       "      <td>11</td>\n",
       "    </tr>\n",
       "    <tr>\n",
       "      <th>...</th>\n",
       "      <td>...</td>\n",
       "      <td>...</td>\n",
       "    </tr>\n",
       "    <tr>\n",
       "      <th>812163</th>\n",
       "      <td>i submitted a letter to the xxxx credit bureau...</td>\n",
       "      <td>18</td>\n",
       "    </tr>\n",
       "    <tr>\n",
       "      <th>38424</th>\n",
       "      <td>i value your help to removed a portion of the ...</td>\n",
       "      <td>11</td>\n",
       "    </tr>\n",
       "    <tr>\n",
       "      <th>575155</th>\n",
       "      <td>xxxx xxxx xxxx xxxx xxxx xxxx reporting late p...</td>\n",
       "      <td>9</td>\n",
       "    </tr>\n",
       "    <tr>\n",
       "      <th>512484</th>\n",
       "      <td>i opened a line of credit with upgrade on xxxx...</td>\n",
       "      <td>11</td>\n",
       "    </tr>\n",
       "    <tr>\n",
       "      <th>223046</th>\n",
       "      <td>i have a car loan from american honda finance ...</td>\n",
       "      <td>11</td>\n",
       "    </tr>\n",
       "  </tbody>\n",
       "</table>\n",
       "<p>182315 rows × 2 columns</p>\n",
       "</div>"
      ],
      "text/plain": [
       "                             Consumer complaint narrative  Issue\n",
       "684406  i am attaching a copy of the letter i mailed t...     18\n",
       "652421  xxxx xxxx xxxx credit card company closed our ...     11\n",
       "14724   i have no clue whats going on so i have no cho...     18\n",
       "295539  over the last 21 months i have on time payment...      6\n",
       "140132  transunion is not correcting my name nor incor...     11\n",
       "...                                                   ...    ...\n",
       "812163  i submitted a letter to the xxxx credit bureau...     18\n",
       "38424   i value your help to removed a portion of the ...     11\n",
       "575155  xxxx xxxx xxxx xxxx xxxx xxxx reporting late p...      9\n",
       "512484  i opened a line of credit with upgrade on xxxx...     11\n",
       "223046  i have a car loan from american honda finance ...     11\n",
       "\n",
       "[182315 rows x 2 columns]"
      ]
     },
     "execution_count": 26,
     "metadata": {},
     "output_type": "execute_result"
    }
   ],
   "source": [
    "test_df = test_df.rename(columns={'cleaned_text': 'Consumer complaint narrative', 'labels': 'Issue'})\n",
    "test_df"
   ]
  },
  {
   "cell_type": "code",
   "execution_count": null,
   "id": "c1d4b23b",
   "metadata": {},
   "outputs": [],
   "source": [
    "test_df.to_csv('../data/Xtest_Ypred_df_ComplaintsFullCSV_exported_Roberta_3iter_FocalLoss_Gamma1_AlphaPt125.csv', index=False)"
   ]
  },
  {
   "cell_type": "code",
   "execution_count": null,
   "id": "a3849ca4",
   "metadata": {},
   "outputs": [],
   "source": []
  }
 ],
 "metadata": {
  "kernelspec": {
   "display_name": "Python 3",
   "language": "python",
   "name": "python3"
  },
  "language_info": {
   "codemirror_mode": {
    "name": "ipython",
    "version": 3
   },
   "file_extension": ".py",
   "mimetype": "text/x-python",
   "name": "python",
   "nbconvert_exporter": "python",
   "pygments_lexer": "ipython3",
   "version": "3.13.2"
  }
 },
 "nbformat": 4,
 "nbformat_minor": 5
}
