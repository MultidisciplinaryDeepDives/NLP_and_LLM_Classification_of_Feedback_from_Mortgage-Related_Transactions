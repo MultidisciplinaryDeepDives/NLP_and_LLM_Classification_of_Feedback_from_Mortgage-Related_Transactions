{
 "cells": [
  {
   "cell_type": "code",
   "execution_count": 1,
   "id": "bb8b328f-435e-4d5d-a02f-23ecdd48c147",
   "metadata": {},
   "outputs": [],
   "source": [
    "import pandas as pd\n",
    "import numpy as np\n",
    "\n",
    "from sklearn.naive_bayes import MultinomialNB\n",
    "from sklearn.linear_model import LogisticRegression\n",
    "\n",
    "from sklearn.model_selection import train_test_split\n",
    "from sklearn.pipeline import Pipeline\n",
    "from sklearn.feature_extraction.text import TfidfVectorizer\n",
    "from sklearn.metrics import confusion_matrix, classification_report\n",
    "\n",
    "from sklearn.metrics.pairwise import cosine_similarity\n",
    "from collections import Counter \n",
    "from scipy.spatial.distance import pdist\n"
   ]
  },
  {
   "cell_type": "code",
   "execution_count": 2,
   "id": "063c5391",
   "metadata": {},
   "outputs": [],
   "source": [
    "from transformers import AutoTokenizer, DistilBertModel, AutoModelForSequenceClassification, Trainer, TrainingArguments, DataCollatorWithPadding, DistilBertConfig, DistilBertTokenizer, DistilBertTokenizerFast, DistilBertPreTrainedModel, DistilBertForTokenClassification, DistilBertForSequenceClassification\n",
    "\n",
    "from datasets import Dataset\n",
    "from accelerate import Accelerator"
   ]
  },
  {
   "cell_type": "code",
   "execution_count": 3,
   "id": "6111403e",
   "metadata": {},
   "outputs": [],
   "source": [
    "from bs4 import BeautifulSoup\n",
    "import re\n",
    "from sklearn import preprocessing"
   ]
  },
  {
   "cell_type": "code",
   "execution_count": 4,
   "id": "f8ac1016",
   "metadata": {},
   "outputs": [],
   "source": [
    "import pandas as pd\n",
    "import numpy as np\n",
    "import scipy.stats as stats"
   ]
  },
  {
   "cell_type": "code",
   "execution_count": 5,
   "id": "6bebfd60",
   "metadata": {},
   "outputs": [],
   "source": [
    "import matplotlib.pyplot as plt\n",
    "import seaborn as sns\n",
    "\n",
    "import shap\n",
    "from sklearn.neural_network import MLPClassifier, MLPRegressor\n",
    "\n",
    "from sklearn.preprocessing import StandardScaler, OneHotEncoder, LabelEncoder, OrdinalEncoder\n",
    "# from sklearn.pipeline import Pipeline\n",
    "from imblearn.pipeline import Pipeline \n",
    "from sklearn.compose import ColumnTransformer\n",
    "\n",
    "from sklearn.metrics import (\n",
    "        classification_report, confusion_matrix, r2_score, mean_squared_error, root_mean_squared_error, mean_absolute_error, mean_absolute_percentage_error, accuracy_score, f1_score, roc_auc_score, roc_curve, precision_recall_curve\n",
    ") \n",
    "\n",
    "from sklearn.inspection import PartialDependenceDisplay, permutation_importance, partial_dependence"
   ]
  },
  {
   "cell_type": "code",
   "execution_count": 6,
   "id": "9422f7c9",
   "metadata": {},
   "outputs": [],
   "source": [
    "from sklearn.linear_model import LogisticRegression\n",
    "from sklearn.model_selection import train_test_split, RandomizedSearchCV, GridSearchCV, RepeatedStratifiedKFold\n",
    "from xgboost import XGBClassifier, XGBRegressor, plot_importance\n",
    "import xgboost as xgb\n",
    "from sklearn.model_selection import cross_val_score"
   ]
  },
  {
   "cell_type": "code",
   "execution_count": 7,
   "id": "3c8d4532",
   "metadata": {},
   "outputs": [],
   "source": [
    "\n",
    "from sklearn.feature_selection import SelectFromModel\n",
    "\n",
    "from imblearn.over_sampling import SMOTE\n",
    "from collections import Counter\n",
    "\n",
    "from sklearn.experimental import enable_iterative_imputer\n",
    "from sklearn.impute import IterativeImputer \n",
    "\n",
    "from sklearn.tree import DecisionTreeRegressor\n",
    "from sklearn.ensemble import ExtraTreesRegressor, GradientBoostingRegressor, HistGradientBoostingRegressor\n",
    "\n",
    "\n",
    "import tqdm as notebook_tqdm\n",
    "from tqdm import tqdm"
   ]
  },
  {
   "cell_type": "code",
   "execution_count": 8,
   "id": "83a0f34b",
   "metadata": {},
   "outputs": [],
   "source": [
    "from nltk.tokenize import sent_tokenize, word_tokenize\n",
    "import warnings\n"
   ]
  },
  {
   "cell_type": "code",
   "execution_count": 9,
   "id": "83595865-3188-447d-b172-76398904578d",
   "metadata": {},
   "outputs": [],
   "source": [
    "complaints = pd.read_csv(\"../data/complaints.csv\")"
   ]
  },
  {
   "cell_type": "code",
   "execution_count": 10,
   "id": "0bbe150a",
   "metadata": {},
   "outputs": [
    {
     "data": {
      "text/html": [
       "<div>\n",
       "<style scoped>\n",
       "    .dataframe tbody tr th:only-of-type {\n",
       "        vertical-align: middle;\n",
       "    }\n",
       "\n",
       "    .dataframe tbody tr th {\n",
       "        vertical-align: top;\n",
       "    }\n",
       "\n",
       "    .dataframe thead th {\n",
       "        text-align: right;\n",
       "    }\n",
       "</style>\n",
       "<table border=\"1\" class=\"dataframe\">\n",
       "  <thead>\n",
       "    <tr style=\"text-align: right;\">\n",
       "      <th></th>\n",
       "      <th>Consumer complaint narrative</th>\n",
       "      <th>Issue</th>\n",
       "    </tr>\n",
       "  </thead>\n",
       "  <tbody>\n",
       "    <tr>\n",
       "      <th>0</th>\n",
       "      <td>my name is xxxx xxxx this complaint is not mad...</td>\n",
       "      <td>Incorrect information on your report</td>\n",
       "    </tr>\n",
       "    <tr>\n",
       "      <th>1</th>\n",
       "      <td>i searched on xxxx for xxxxxxxx xxxx and was p...</td>\n",
       "      <td>Fraud or scam</td>\n",
       "    </tr>\n",
       "    <tr>\n",
       "      <th>2</th>\n",
       "      <td>i have a particular account that is stating th...</td>\n",
       "      <td>Incorrect information on your report</td>\n",
       "    </tr>\n",
       "    <tr>\n",
       "      <th>3</th>\n",
       "      <td>i have not supplied proof under the doctrine o...</td>\n",
       "      <td>Attempts to collect debt not owed</td>\n",
       "    </tr>\n",
       "    <tr>\n",
       "      <th>4</th>\n",
       "      <td>hello im writing regarding account on my credi...</td>\n",
       "      <td>Incorrect information on your report</td>\n",
       "    </tr>\n",
       "    <tr>\n",
       "      <th>...</th>\n",
       "      <td>...</td>\n",
       "      <td>...</td>\n",
       "    </tr>\n",
       "    <tr>\n",
       "      <th>353427</th>\n",
       "      <td>collections account i have no knowledge of</td>\n",
       "      <td>Attempts to collect debt not owed</td>\n",
       "    </tr>\n",
       "    <tr>\n",
       "      <th>353428</th>\n",
       "      <td>dear cfpb team the reason for my complaint is ...</td>\n",
       "      <td>Attempts to collect debt not owed</td>\n",
       "    </tr>\n",
       "    <tr>\n",
       "      <th>353429</th>\n",
       "      <td>frca violations failing to follow debt dispute...</td>\n",
       "      <td>Attempts to collect debt not owed</td>\n",
       "    </tr>\n",
       "    <tr>\n",
       "      <th>353430</th>\n",
       "      <td>my father a xxxx xxxx acquired an hecm reverse...</td>\n",
       "      <td>Struggling to pay mortgage</td>\n",
       "    </tr>\n",
       "    <tr>\n",
       "      <th>353431</th>\n",
       "      <td>i have tried to contact cash app about a fraud...</td>\n",
       "      <td>Fraud or scam</td>\n",
       "    </tr>\n",
       "  </tbody>\n",
       "</table>\n",
       "<p>353432 rows × 2 columns</p>\n",
       "</div>"
      ],
      "text/plain": [
       "                             Consumer complaint narrative  \\\n",
       "0       my name is xxxx xxxx this complaint is not mad...   \n",
       "1       i searched on xxxx for xxxxxxxx xxxx and was p...   \n",
       "2       i have a particular account that is stating th...   \n",
       "3       i have not supplied proof under the doctrine o...   \n",
       "4       hello im writing regarding account on my credi...   \n",
       "...                                                   ...   \n",
       "353427         collections account i have no knowledge of   \n",
       "353428  dear cfpb team the reason for my complaint is ...   \n",
       "353429  frca violations failing to follow debt dispute...   \n",
       "353430  my father a xxxx xxxx acquired an hecm reverse...   \n",
       "353431  i have tried to contact cash app about a fraud...   \n",
       "\n",
       "                                       Issue  \n",
       "0       Incorrect information on your report  \n",
       "1                              Fraud or scam  \n",
       "2       Incorrect information on your report  \n",
       "3          Attempts to collect debt not owed  \n",
       "4       Incorrect information on your report  \n",
       "...                                      ...  \n",
       "353427     Attempts to collect debt not owed  \n",
       "353428     Attempts to collect debt not owed  \n",
       "353429     Attempts to collect debt not owed  \n",
       "353430            Struggling to pay mortgage  \n",
       "353431                         Fraud or scam  \n",
       "\n",
       "[353432 rows x 2 columns]"
      ]
     },
     "execution_count": 10,
     "metadata": {},
     "output_type": "execute_result"
    }
   ],
   "source": [
    "class TextCleaner():\n",
    "    def __init__(self):\n",
    "        pass\n",
    "    \n",
    "    def clean_text(self, text):\n",
    "        text = text.lower()\n",
    "        text = re.sub(r'<.*?>', '', text)\n",
    "        text = re.sub(r'http\\S+', '', text)\n",
    "        text = re.sub(r\"[^a-zA-Z0-9\\s]\", \"\", text)\n",
    "        text = re.sub(r\"\\s+\", \" \", text).strip()\n",
    "        return text\n",
    "\n",
    "cleaner = TextCleaner()\n",
    "complaints['Consumer complaint narrative'] = complaints['Consumer complaint narrative'].apply(cleaner.clean_text)\n",
    "complaints"
   ]
  },
  {
   "cell_type": "code",
   "execution_count": 11,
   "id": "37c37e1f",
   "metadata": {},
   "outputs": [],
   "source": [
    "y_raw = complaints['Issue']"
   ]
  },
  {
   "cell_type": "markdown",
   "id": "8806fc48",
   "metadata": {},
   "source": [
    "label_encoder = preprocessing.LabelEncoder()\n",
    "complaints['Issue'] = label_encoder.fit_transform(complaints['Issue'].tolist())"
   ]
  },
  {
   "cell_type": "markdown",
   "id": "3bf022da",
   "metadata": {},
   "source": [
    "y_encoded = complaints['Issue']\n",
    "y_encoded"
   ]
  },
  {
   "cell_type": "code",
   "execution_count": 12,
   "id": "a57b9b5e",
   "metadata": {},
   "outputs": [
    {
     "data": {
      "text/html": [
       "<div>\n",
       "<style scoped>\n",
       "    .dataframe tbody tr th:only-of-type {\n",
       "        vertical-align: middle;\n",
       "    }\n",
       "\n",
       "    .dataframe tbody tr th {\n",
       "        vertical-align: top;\n",
       "    }\n",
       "\n",
       "    .dataframe thead th {\n",
       "        text-align: right;\n",
       "    }\n",
       "</style>\n",
       "<table border=\"1\" class=\"dataframe\">\n",
       "  <thead>\n",
       "    <tr style=\"text-align: right;\">\n",
       "      <th></th>\n",
       "      <th>Consumer complaint narrative</th>\n",
       "    </tr>\n",
       "  </thead>\n",
       "  <tbody>\n",
       "    <tr>\n",
       "      <th>0</th>\n",
       "      <td>my name is xxxx xxxx this complaint is not mad...</td>\n",
       "    </tr>\n",
       "    <tr>\n",
       "      <th>1</th>\n",
       "      <td>i searched on xxxx for xxxxxxxx xxxx and was p...</td>\n",
       "    </tr>\n",
       "    <tr>\n",
       "      <th>2</th>\n",
       "      <td>i have a particular account that is stating th...</td>\n",
       "    </tr>\n",
       "    <tr>\n",
       "      <th>3</th>\n",
       "      <td>i have not supplied proof under the doctrine o...</td>\n",
       "    </tr>\n",
       "    <tr>\n",
       "      <th>4</th>\n",
       "      <td>hello im writing regarding account on my credi...</td>\n",
       "    </tr>\n",
       "    <tr>\n",
       "      <th>...</th>\n",
       "      <td>...</td>\n",
       "    </tr>\n",
       "    <tr>\n",
       "      <th>353427</th>\n",
       "      <td>collections account i have no knowledge of</td>\n",
       "    </tr>\n",
       "    <tr>\n",
       "      <th>353428</th>\n",
       "      <td>dear cfpb team the reason for my complaint is ...</td>\n",
       "    </tr>\n",
       "    <tr>\n",
       "      <th>353429</th>\n",
       "      <td>frca violations failing to follow debt dispute...</td>\n",
       "    </tr>\n",
       "    <tr>\n",
       "      <th>353430</th>\n",
       "      <td>my father a xxxx xxxx acquired an hecm reverse...</td>\n",
       "    </tr>\n",
       "    <tr>\n",
       "      <th>353431</th>\n",
       "      <td>i have tried to contact cash app about a fraud...</td>\n",
       "    </tr>\n",
       "  </tbody>\n",
       "</table>\n",
       "<p>353432 rows × 1 columns</p>\n",
       "</div>"
      ],
      "text/plain": [
       "                             Consumer complaint narrative\n",
       "0       my name is xxxx xxxx this complaint is not mad...\n",
       "1       i searched on xxxx for xxxxxxxx xxxx and was p...\n",
       "2       i have a particular account that is stating th...\n",
       "3       i have not supplied proof under the doctrine o...\n",
       "4       hello im writing regarding account on my credi...\n",
       "...                                                   ...\n",
       "353427         collections account i have no knowledge of\n",
       "353428  dear cfpb team the reason for my complaint is ...\n",
       "353429  frca violations failing to follow debt dispute...\n",
       "353430  my father a xxxx xxxx acquired an hecm reverse...\n",
       "353431  i have tried to contact cash app about a fraud...\n",
       "\n",
       "[353432 rows x 1 columns]"
      ]
     },
     "execution_count": 12,
     "metadata": {},
     "output_type": "execute_result"
    }
   ],
   "source": [
    "X = complaints[['Consumer complaint narrative']]\n",
    "X"
   ]
  },
  {
   "cell_type": "code",
   "execution_count": 13,
   "id": "878a2c0f",
   "metadata": {},
   "outputs": [],
   "source": [
    "X_train, X_test, y_train, y_test = train_test_split(X, y_raw, test_size = 0.2, random_state = 321, shuffle=True, stratify = y_raw)"
   ]
  },
  {
   "cell_type": "code",
   "execution_count": 14,
   "id": "bbc9b525",
   "metadata": {},
   "outputs": [
    {
     "name": "stderr",
     "output_type": "stream",
     "text": [
      "/Users/bentonwang/Library/Python/3.13/lib/python/site-packages/xgboost/training.py:183: UserWarning: [14:52:24] WARNING: /Users/runner/work/xgboost/xgboost/src/learner.cc:738: \n",
      "Parameters: { \"use_label_encoder\" } are not used.\n",
      "\n",
      "  bst.update(dtrain, iteration=i, fobj=obj)\n"
     ]
    }
   ],
   "source": [
    "\n",
    "\n",
    "X_train_tokens = X_train['Consumer complaint narrative'].fillna(\"\").apply(str.split)\n",
    "\n",
    "X_test_tokens = X_test['Consumer complaint narrative'].fillna(\"\").apply(str.split)\n",
    "\n",
    "tfidf = TfidfVectorizer(stop_words='english')\n",
    "\n",
    "# ngrams from 1 to 3 and minimum document frequency of 20\n",
    "# tfidf = TfidfVectorizer(ngram_range=(1,3), min_df = 20)\n",
    "\n",
    "X_train_vec = tfidf.fit_transform(X_train_tokens.apply(lambda x: ' '.join(x)))\n",
    "X_test_vec = tfidf.transform(X_test_tokens.apply(lambda x: ' '.join(x)))\n",
    "\n",
    "le = LabelEncoder()\n",
    "\n",
    "y_train_enc = le.fit_transform(y_train)\n",
    "\n",
    "y_test_enc = le.transform(y_test)\n",
    "\n",
    "xgb_model = xgb.XGBClassifier( enable_categorical=True, \n",
    "                              objective='multi:softmax', \n",
    "                              num_class=len(le.classes_), \n",
    "                              n_estimators=1000,  #10000, for 92% accuracy (Macro)\n",
    "                              use_label_encoder=True, \n",
    "                              eval_metric='mlogloss',\n",
    "                              random_state = 535)\n",
    "\n",
    "\n",
    "xgb_model.fit(X_train_vec, y_train_enc)\n",
    "\n",
    "y_pred_enc = xgb_model.predict(X_test_vec)\n",
    "\n",
    "y_pred = le.inverse_transform(y_pred_enc)"
   ]
  },
  {
   "cell_type": "code",
   "execution_count": 15,
   "id": "31f1b54d",
   "metadata": {},
   "outputs": [
    {
     "data": {
      "text/plain": [
       "0.9002928402676589"
      ]
     },
     "execution_count": 15,
     "metadata": {},
     "output_type": "execute_result"
    }
   ],
   "source": [
    "accuracy_score(y_test, y_pred)"
   ]
  },
  {
   "cell_type": "code",
   "execution_count": 16,
   "id": "52277233",
   "metadata": {},
   "outputs": [
    {
     "data": {
      "text/plain": [
       "array([[11126,   488,    72,  2889,    58],\n",
       "       [  748,  3293,    14,   177,    17],\n",
       "       [   86,    23,  2179,   170,    11],\n",
       "       [ 1874,    52,    37, 43816,    82],\n",
       "       [   52,    26,    10,   162,  3225]])"
      ]
     },
     "execution_count": 16,
     "metadata": {},
     "output_type": "execute_result"
    }
   ],
   "source": [
    "confusion_matrix(y_test, y_pred)"
   ]
  },
  {
   "cell_type": "code",
   "execution_count": 17,
   "id": "d1cebb54",
   "metadata": {},
   "outputs": [
    {
     "name": "stdout",
     "output_type": "stream",
     "text": [
      "                                      precision    recall  f1-score   support\n",
      "\n",
      "   Attempts to Collect Debt Not Owed       0.80      0.76      0.78     14633\n",
      "               Communication Tactics       0.85      0.78      0.81      4249\n",
      "                       Fraud or Scam       0.94      0.88      0.91      2469\n",
      "Incorrect Information on Your Report       0.93      0.96      0.94     45861\n",
      "          Struggling to Pay Mortgage       0.95      0.93      0.94      3475\n",
      "\n",
      "                            accuracy                           0.90     70687\n",
      "                           macro avg       0.89      0.86      0.88     70687\n",
      "                        weighted avg       0.90      0.90      0.90     70687\n",
      "\n"
     ]
    }
   ],
   "source": [
    "print(classification_report(y_test, y_pred, zero_division = 0, target_names=['Attempts to Collect Debt Not Owed', 'Communication Tactics', 'Fraud or Scam', 'Incorrect Information on Your Report', 'Struggling to Pay Mortgage']))  "
   ]
  },
  {
   "cell_type": "markdown",
   "id": "5d25af27",
   "metadata": {},
   "source": [
    "# Top Features' Importance Quantification\n"
   ]
  },
  {
   "cell_type": "code",
   "execution_count": 18,
   "id": "c866979b",
   "metadata": {},
   "outputs": [],
   "source": [
    "selection = SelectFromModel(xgb_model, threshold=0.0001, prefit=True)"
   ]
  },
  {
   "cell_type": "code",
   "execution_count": 19,
   "id": "2c18d8b9",
   "metadata": {},
   "outputs": [
    {
     "data": {
      "image/png": "[encoded data removed]",
      "text/plain": [
       "<Figure size 640x480 with 1 Axes>"
      ]
     },
     "metadata": {},
     "output_type": "display_data"
    }
   ],
   "source": [
    "plot_importance_object = plot_importance(xgb_model, importance_type='gain')\n",
    "plt.title('Feature Importance for Complaint Classification')\n",
    "plt.show()"
   ]
  },
  {
   "cell_type": "code",
   "execution_count": null,
   "id": "e6e2b194",
   "metadata": {},
   "outputs": [],
   "source": []
  },
  {
   "cell_type": "code",
   "execution_count": 20,
   "id": "ce3a546f",
   "metadata": {},
   "outputs": [
    {
     "data": {
      "text/plain": [
       "array(['00', '000', '0000', ..., 'zwicke', 'zwicker', 'zwickers'],\n",
       "      shape=(102167,), dtype=object)"
      ]
     },
     "execution_count": 20,
     "metadata": {},
     "output_type": "execute_result"
    }
   ],
   "source": [
    "X_feature_names = tfidf.get_feature_names_out()\n",
    "X_feature_names"
   ]
  },
  {
   "cell_type": "code",
   "execution_count": 21,
   "id": "b6598f49",
   "metadata": {},
   "outputs": [],
   "source": [
    "importances = xgb_model.feature_importances_"
   ]
  },
  {
   "cell_type": "code",
   "execution_count": 22,
   "id": "ca4a47a8",
   "metadata": {},
   "outputs": [],
   "source": [
    "importance_df = pd.DataFrame({'word': X_feature_names, 'importance': importances})   "
   ]
  },
  {
   "cell_type": "code",
   "execution_count": 23,
   "id": "e826970f",
   "metadata": {},
   "outputs": [
    {
     "data": {
      "text/html": [
       "<div>\n",
       "<style scoped>\n",
       "    .dataframe tbody tr th:only-of-type {\n",
       "        vertical-align: middle;\n",
       "    }\n",
       "\n",
       "    .dataframe tbody tr th {\n",
       "        vertical-align: top;\n",
       "    }\n",
       "\n",
       "    .dataframe thead th {\n",
       "        text-align: right;\n",
       "    }\n",
       "</style>\n",
       "<table border=\"1\" class=\"dataframe\">\n",
       "  <thead>\n",
       "    <tr style=\"text-align: right;\">\n",
       "      <th></th>\n",
       "      <th>word</th>\n",
       "      <th>importance</th>\n",
       "    </tr>\n",
       "  </thead>\n",
       "  <tbody>\n",
       "    <tr>\n",
       "      <th>60059</th>\n",
       "      <td>mute</td>\n",
       "      <td>0.033168</td>\n",
       "    </tr>\n",
       "    <tr>\n",
       "      <th>29550</th>\n",
       "      <td>declaration</td>\n",
       "      <td>0.021328</td>\n",
       "    </tr>\n",
       "    <tr>\n",
       "      <th>1504</th>\n",
       "      <td>16661666b</td>\n",
       "      <td>0.020611</td>\n",
       "    </tr>\n",
       "    <tr>\n",
       "      <th>58842</th>\n",
       "      <td>modification</td>\n",
       "      <td>0.010933</td>\n",
       "    </tr>\n",
       "    <tr>\n",
       "      <th>37640</th>\n",
       "      <td>expartner</td>\n",
       "      <td>0.007446</td>\n",
       "    </tr>\n",
       "    <tr>\n",
       "      <th>12477</th>\n",
       "      <td>anybody</td>\n",
       "      <td>0.007401</td>\n",
       "    </tr>\n",
       "    <tr>\n",
       "      <th>90487</th>\n",
       "      <td>transunion</td>\n",
       "      <td>0.006495</td>\n",
       "    </tr>\n",
       "    <tr>\n",
       "      <th>53762</th>\n",
       "      <td>lead</td>\n",
       "      <td>0.006348</td>\n",
       "    </tr>\n",
       "    <tr>\n",
       "      <th>37734</th>\n",
       "      <td>experian</td>\n",
       "      <td>0.006202</td>\n",
       "    </tr>\n",
       "    <tr>\n",
       "      <th>36288</th>\n",
       "      <td>equifax</td>\n",
       "      <td>0.005516</td>\n",
       "    </tr>\n",
       "    <tr>\n",
       "      <th>23066</th>\n",
       "      <td>coinbase</td>\n",
       "      <td>0.004821</td>\n",
       "    </tr>\n",
       "    <tr>\n",
       "      <th>39187</th>\n",
       "      <td>feedbacks</td>\n",
       "      <td>0.004654</td>\n",
       "    </tr>\n",
       "    <tr>\n",
       "      <th>69343</th>\n",
       "      <td>possibilities</td>\n",
       "      <td>0.004232</td>\n",
       "    </tr>\n",
       "    <tr>\n",
       "      <th>24154</th>\n",
       "      <td>companys</td>\n",
       "      <td>0.003898</td>\n",
       "    </tr>\n",
       "    <tr>\n",
       "      <th>19568</th>\n",
       "      <td>calling</td>\n",
       "      <td>0.003887</td>\n",
       "    </tr>\n",
       "    <tr>\n",
       "      <th>14775</th>\n",
       "      <td>authorities</td>\n",
       "      <td>0.003842</td>\n",
       "    </tr>\n",
       "    <tr>\n",
       "      <th>21151</th>\n",
       "      <td>cfr</td>\n",
       "      <td>0.003520</td>\n",
       "    </tr>\n",
       "    <tr>\n",
       "      <th>79417</th>\n",
       "      <td>scammed</td>\n",
       "      <td>0.003494</td>\n",
       "    </tr>\n",
       "    <tr>\n",
       "      <th>96967</th>\n",
       "      <td>wire</td>\n",
       "      <td>0.003379</td>\n",
       "    </tr>\n",
       "    <tr>\n",
       "      <th>82195</th>\n",
       "      <td>sitting</td>\n",
       "      <td>0.003280</td>\n",
       "    </tr>\n",
       "    <tr>\n",
       "      <th>19615</th>\n",
       "      <td>calls</td>\n",
       "      <td>0.003117</td>\n",
       "    </tr>\n",
       "    <tr>\n",
       "      <th>12165</th>\n",
       "      <td>anguish</td>\n",
       "      <td>0.003087</td>\n",
       "    </tr>\n",
       "    <tr>\n",
       "      <th>29172</th>\n",
       "      <td>debt</td>\n",
       "      <td>0.002737</td>\n",
       "    </tr>\n",
       "    <tr>\n",
       "      <th>40940</th>\n",
       "      <td>foreclosure</td>\n",
       "      <td>0.002656</td>\n",
       "    </tr>\n",
       "    <tr>\n",
       "      <th>49964</th>\n",
       "      <td>inquiries</td>\n",
       "      <td>0.002624</td>\n",
       "    </tr>\n",
       "    <tr>\n",
       "      <th>59454</th>\n",
       "      <td>mortgage</td>\n",
       "      <td>0.002569</td>\n",
       "    </tr>\n",
       "    <tr>\n",
       "      <th>42469</th>\n",
       "      <td>funds</td>\n",
       "      <td>0.002551</td>\n",
       "    </tr>\n",
       "    <tr>\n",
       "      <th>36970</th>\n",
       "      <td>evaluate</td>\n",
       "      <td>0.002441</td>\n",
       "    </tr>\n",
       "    <tr>\n",
       "      <th>12709</th>\n",
       "      <td>app</td>\n",
       "      <td>0.002280</td>\n",
       "    </tr>\n",
       "    <tr>\n",
       "      <th>67618</th>\n",
       "      <td>perform</td>\n",
       "      <td>0.002227</td>\n",
       "    </tr>\n",
       "  </tbody>\n",
       "</table>\n",
       "</div>"
      ],
      "text/plain": [
       "                word  importance\n",
       "60059           mute    0.033168\n",
       "29550    declaration    0.021328\n",
       "1504       16661666b    0.020611\n",
       "58842   modification    0.010933\n",
       "37640      expartner    0.007446\n",
       "12477        anybody    0.007401\n",
       "90487     transunion    0.006495\n",
       "53762           lead    0.006348\n",
       "37734       experian    0.006202\n",
       "36288        equifax    0.005516\n",
       "23066       coinbase    0.004821\n",
       "39187      feedbacks    0.004654\n",
       "69343  possibilities    0.004232\n",
       "24154       companys    0.003898\n",
       "19568        calling    0.003887\n",
       "14775    authorities    0.003842\n",
       "21151            cfr    0.003520\n",
       "79417        scammed    0.003494\n",
       "96967           wire    0.003379\n",
       "82195        sitting    0.003280\n",
       "19615          calls    0.003117\n",
       "12165        anguish    0.003087\n",
       "29172           debt    0.002737\n",
       "40940    foreclosure    0.002656\n",
       "49964      inquiries    0.002624\n",
       "59454       mortgage    0.002569\n",
       "42469          funds    0.002551\n",
       "36970       evaluate    0.002441\n",
       "12709            app    0.002280\n",
       "67618        perform    0.002227"
      ]
     },
     "execution_count": 23,
     "metadata": {},
     "output_type": "execute_result"
    }
   ],
   "source": [
    "importance_df = importance_df.sort_values(by='importance', ascending=False)\n",
    "\n",
    "importance_df = importance_df[importance_df['importance'] > 0]\n",
    "\n",
    "importance_df.head(30)"
   ]
  },
  {
   "cell_type": "code",
   "execution_count": null,
   "id": "e7ea3e05",
   "metadata": {},
   "outputs": [],
   "source": []
  }
 ],
 "metadata": {
  "kernelspec": {
   "display_name": "Python 3",
   "language": "python",
   "name": "python3"
  },
  "language_info": {
   "codemirror_mode": {
    "name": "ipython",
    "version": 3
   },
   "file_extension": ".py",
   "mimetype": "text/x-python",
   "name": "python",
   "nbconvert_exporter": "python",
   "pygments_lexer": "ipython3",
   "version": "3.13.2"
  }
 },
 "nbformat": 4,
 "nbformat_minor": 5
}
